{
 "cells": [
  {
   "cell_type": "markdown",
   "id": "destroyed-creek",
   "metadata": {},
   "source": [
    "# Analysis of protein abundance in _e.coli_\n",
    "\n",
    "This notebook shows the use of pybenford module with protein abundance data. The protein abundance data are from [PRIDE](https://www.ebi.ac.uk/pride/) : https://www.ebi.ac.uk/pride/archive/projects/PXD024151  \n",
    "This is an analysis of the proteome of _Escherichia coli_ during sudden carbon starvation. "
   ]
  },
  {
   "cell_type": "code",
   "execution_count": 2,
   "id": "fatty-conducting",
   "metadata": {},
   "outputs": [],
   "source": [
    "import pandas as pd\n",
    "import numpy as np\n",
    "import matplotlib.pyplot as plt\n",
    "import os, sys\n",
    "\n",
    "import pybenford as benford"
   ]
  },
  {
   "cell_type": "markdown",
   "id": "crucial-stranger",
   "metadata": {},
   "source": [
    "## Loading dataset"
   ]
  },
  {
   "cell_type": "code",
   "execution_count": 3,
   "id": "sonic-physics",
   "metadata": {},
   "outputs": [
    {
     "name": "stdout",
     "output_type": "stream",
     "text": [
      "--2021-06-21 09:38:46--  https://www.ebi.ac.uk/pride/data/archive/2021/03/PXD024151/e033784_Proteins.xlsx\n",
      "Resolving www.ebi.ac.uk (www.ebi.ac.uk)... 193.62.193.80\n",
      "Connecting to www.ebi.ac.uk (www.ebi.ac.uk)|193.62.193.80|:443... connected.\n",
      "HTTP request sent, awaiting response... 301 Moved Permanently\n",
      "Location: http://ftp.pride.ebi.ac.uk/pride/data/archive/2021/03/PXD024151/e033784_Proteins.xlsx [following]\n",
      "--2021-06-21 09:38:46--  http://ftp.pride.ebi.ac.uk/pride/data/archive/2021/03/PXD024151/e033784_Proteins.xlsx\n",
      "Resolving ftp.pride.ebi.ac.uk (ftp.pride.ebi.ac.uk)... 193.62.197.74\n",
      "Connecting to ftp.pride.ebi.ac.uk (ftp.pride.ebi.ac.uk)|193.62.197.74|:80... connected.\n",
      "HTTP request sent, awaiting response... 200 OK\n",
      "Length: 511702 (500K) [application/vnd.openxmlformats-officedocument.spreadsheetml.sheet]\n",
      "Saving to: 'e033784_Proteins.xlsx'\n",
      "\n",
      "e033784_Proteins.xl 100%[===================>] 499.71K  1.55MB/s    in 0.3s    \n",
      "\n",
      "2021-06-21 09:38:47 (1.55 MB/s) - 'e033784_Proteins.xlsx' saved [511702/511702]\n",
      "\n"
     ]
    }
   ],
   "source": [
    "if not os.path.exists(\"e033784_Proteins.xlsx\"):\n",
    "    !wget https://www.ebi.ac.uk/pride/data/archive/2021/03/PXD024151/e033784_Proteins.xlsx"
   ]
  },
  {
   "cell_type": "markdown",
   "id": "electrical-lotus",
   "metadata": {},
   "source": [
    "## Exploration of dataset"
   ]
  },
  {
   "cell_type": "code",
   "execution_count": 4,
   "id": "sexual-commission",
   "metadata": {},
   "outputs": [
    {
     "data": {
      "text/plain": [
       "(2259, 31)"
      ]
     },
     "execution_count": 4,
     "metadata": {},
     "output_type": "execute_result"
    }
   ],
   "source": [
    "data = pd.read_excel('e033784_Proteins.xlsx')\n",
    "data.shape"
   ]
  },
  {
   "cell_type": "code",
   "execution_count": 5,
   "id": "pleased-concert",
   "metadata": {},
   "outputs": [
    {
     "data": {
      "text/html": [
       "<div>\n",
       "<style scoped>\n",
       "    .dataframe tbody tr th:only-of-type {\n",
       "        vertical-align: middle;\n",
       "    }\n",
       "\n",
       "    .dataframe tbody tr th {\n",
       "        vertical-align: top;\n",
       "    }\n",
       "\n",
       "    .dataframe thead th {\n",
       "        text-align: right;\n",
       "    }\n",
       "</style>\n",
       "<table border=\"1\" class=\"dataframe\">\n",
       "  <thead>\n",
       "    <tr style=\"text-align: right;\">\n",
       "      <th></th>\n",
       "      <th>Checked</th>\n",
       "      <th>Protein FDR Confidence Combined</th>\n",
       "      <th>Master</th>\n",
       "      <th>Accession</th>\n",
       "      <th>Description</th>\n",
       "      <th>Exp q-value Combined</th>\n",
       "      <th>Sum PEP Score</th>\n",
       "      <th>Coverage in Percent</th>\n",
       "      <th>Number of Peptides</th>\n",
       "      <th>Number of PSMs</th>\n",
       "      <th>...</th>\n",
       "      <th>Abundances Normalized F4 Sample</th>\n",
       "      <th>Abundance F1 Sample</th>\n",
       "      <th>Abundance F2 Sample</th>\n",
       "      <th>Abundance F3 Sample</th>\n",
       "      <th>Abundance F4 Sample</th>\n",
       "      <th>Found in Sample in S1 F1 Sample</th>\n",
       "      <th>Found in Sample in S2 F2 Sample</th>\n",
       "      <th>Found in Sample in S3 F3 Sample</th>\n",
       "      <th>Found in Sample in S4 F4 Sample</th>\n",
       "      <th>Modifications</th>\n",
       "    </tr>\n",
       "  </thead>\n",
       "  <tbody>\n",
       "    <tr>\n",
       "      <th>0</th>\n",
       "      <td>False</td>\n",
       "      <td>High</td>\n",
       "      <td>IsMasterProtein</td>\n",
       "      <td>P0A8V2</td>\n",
       "      <td>DNA-directed RNA polymerase subunit beta OS=Es...</td>\n",
       "      <td>0.0</td>\n",
       "      <td>669.114</td>\n",
       "      <td>72</td>\n",
       "      <td>95</td>\n",
       "      <td>794</td>\n",
       "      <td>...</td>\n",
       "      <td>2.233296e+09</td>\n",
       "      <td>2.107560e+09</td>\n",
       "      <td>1.126121e+09</td>\n",
       "      <td>8.542110e+08</td>\n",
       "      <td>2.765100e+08</td>\n",
       "      <td>High</td>\n",
       "      <td>High</td>\n",
       "      <td>High</td>\n",
       "      <td>High</td>\n",
       "      <td>NaN</td>\n",
       "    </tr>\n",
       "    <tr>\n",
       "      <th>1</th>\n",
       "      <td>False</td>\n",
       "      <td>High</td>\n",
       "      <td>IsMasterProtein</td>\n",
       "      <td>P0A8T7</td>\n",
       "      <td>DNA-directed RNA polymerase subunit beta' OS=E...</td>\n",
       "      <td>0.0</td>\n",
       "      <td>596.904</td>\n",
       "      <td>68</td>\n",
       "      <td>91</td>\n",
       "      <td>841</td>\n",
       "      <td>...</td>\n",
       "      <td>1.950036e+09</td>\n",
       "      <td>2.005228e+09</td>\n",
       "      <td>1.126856e+09</td>\n",
       "      <td>8.781706e+08</td>\n",
       "      <td>2.414389e+08</td>\n",
       "      <td>High</td>\n",
       "      <td>High</td>\n",
       "      <td>High</td>\n",
       "      <td>High</td>\n",
       "      <td>NaN</td>\n",
       "    </tr>\n",
       "    <tr>\n",
       "      <th>2</th>\n",
       "      <td>False</td>\n",
       "      <td>High</td>\n",
       "      <td>IsMasterProtein</td>\n",
       "      <td>P0A6F5</td>\n",
       "      <td>60 kDa chaperonin OS=Escherichia coli (strain ...</td>\n",
       "      <td>0.0</td>\n",
       "      <td>503.063</td>\n",
       "      <td>93</td>\n",
       "      <td>53</td>\n",
       "      <td>1435</td>\n",
       "      <td>...</td>\n",
       "      <td>5.664362e+09</td>\n",
       "      <td>4.516081e+09</td>\n",
       "      <td>2.140958e+09</td>\n",
       "      <td>1.842317e+09</td>\n",
       "      <td>7.013190e+08</td>\n",
       "      <td>High</td>\n",
       "      <td>High</td>\n",
       "      <td>High</td>\n",
       "      <td>High</td>\n",
       "      <td>NaN</td>\n",
       "    </tr>\n",
       "    <tr>\n",
       "      <th>3</th>\n",
       "      <td>False</td>\n",
       "      <td>High</td>\n",
       "      <td>IsMasterProtein</td>\n",
       "      <td>P0AFG8</td>\n",
       "      <td>Pyruvate dehydrogenase E1 component OS=Escheri...</td>\n",
       "      <td>0.0</td>\n",
       "      <td>450.292</td>\n",
       "      <td>72</td>\n",
       "      <td>75</td>\n",
       "      <td>758</td>\n",
       "      <td>...</td>\n",
       "      <td>3.326486e+09</td>\n",
       "      <td>3.315792e+09</td>\n",
       "      <td>1.710860e+09</td>\n",
       "      <td>1.433563e+09</td>\n",
       "      <td>4.118607e+08</td>\n",
       "      <td>High</td>\n",
       "      <td>High</td>\n",
       "      <td>High</td>\n",
       "      <td>High</td>\n",
       "      <td>NaN</td>\n",
       "    </tr>\n",
       "    <tr>\n",
       "      <th>4</th>\n",
       "      <td>False</td>\n",
       "      <td>High</td>\n",
       "      <td>IsMasterProtein</td>\n",
       "      <td>P0A705</td>\n",
       "      <td>Translation initiation factor IF-2 OS=Escheric...</td>\n",
       "      <td>0.0</td>\n",
       "      <td>424.883</td>\n",
       "      <td>73</td>\n",
       "      <td>74</td>\n",
       "      <td>429</td>\n",
       "      <td>...</td>\n",
       "      <td>9.685164e+08</td>\n",
       "      <td>1.348475e+09</td>\n",
       "      <td>6.278798e+08</td>\n",
       "      <td>4.037779e+08</td>\n",
       "      <td>1.199145e+08</td>\n",
       "      <td>High</td>\n",
       "      <td>High</td>\n",
       "      <td>High</td>\n",
       "      <td>High</td>\n",
       "      <td>NaN</td>\n",
       "    </tr>\n",
       "  </tbody>\n",
       "</table>\n",
       "<p>5 rows × 31 columns</p>\n",
       "</div>"
      ],
      "text/plain": [
       "   Checked Protein FDR Confidence Combined           Master Accession  \\\n",
       "0    False                            High  IsMasterProtein    P0A8V2   \n",
       "1    False                            High  IsMasterProtein    P0A8T7   \n",
       "2    False                            High  IsMasterProtein    P0A6F5   \n",
       "3    False                            High  IsMasterProtein    P0AFG8   \n",
       "4    False                            High  IsMasterProtein    P0A705   \n",
       "\n",
       "                                         Description  Exp q-value Combined  \\\n",
       "0  DNA-directed RNA polymerase subunit beta OS=Es...                   0.0   \n",
       "1  DNA-directed RNA polymerase subunit beta' OS=E...                   0.0   \n",
       "2  60 kDa chaperonin OS=Escherichia coli (strain ...                   0.0   \n",
       "3  Pyruvate dehydrogenase E1 component OS=Escheri...                   0.0   \n",
       "4  Translation initiation factor IF-2 OS=Escheric...                   0.0   \n",
       "\n",
       "   Sum PEP Score  Coverage in Percent  Number of Peptides  Number of PSMs  \\\n",
       "0        669.114                   72                  95             794   \n",
       "1        596.904                   68                  91             841   \n",
       "2        503.063                   93                  53            1435   \n",
       "3        450.292                   72                  75             758   \n",
       "4        424.883                   73                  74             429   \n",
       "\n",
       "   ...  Abundances Normalized F4 Sample  Abundance F1 Sample  \\\n",
       "0  ...                     2.233296e+09         2.107560e+09   \n",
       "1  ...                     1.950036e+09         2.005228e+09   \n",
       "2  ...                     5.664362e+09         4.516081e+09   \n",
       "3  ...                     3.326486e+09         3.315792e+09   \n",
       "4  ...                     9.685164e+08         1.348475e+09   \n",
       "\n",
       "   Abundance F2 Sample  Abundance F3 Sample  Abundance F4 Sample  \\\n",
       "0         1.126121e+09         8.542110e+08         2.765100e+08   \n",
       "1         1.126856e+09         8.781706e+08         2.414389e+08   \n",
       "2         2.140958e+09         1.842317e+09         7.013190e+08   \n",
       "3         1.710860e+09         1.433563e+09         4.118607e+08   \n",
       "4         6.278798e+08         4.037779e+08         1.199145e+08   \n",
       "\n",
       "   Found in Sample in S1 F1 Sample  Found in Sample in S2 F2 Sample  \\\n",
       "0                             High                             High   \n",
       "1                             High                             High   \n",
       "2                             High                             High   \n",
       "3                             High                             High   \n",
       "4                             High                             High   \n",
       "\n",
       "   Found in Sample in S3 F3 Sample  Found in Sample in S4 F4 Sample  \\\n",
       "0                             High                             High   \n",
       "1                             High                             High   \n",
       "2                             High                             High   \n",
       "3                             High                             High   \n",
       "4                             High                             High   \n",
       "\n",
       "   Modifications  \n",
       "0            NaN  \n",
       "1            NaN  \n",
       "2            NaN  \n",
       "3            NaN  \n",
       "4            NaN  \n",
       "\n",
       "[5 rows x 31 columns]"
      ]
     },
     "execution_count": 5,
     "metadata": {},
     "output_type": "execute_result"
    }
   ],
   "source": [
    "data.head()"
   ]
  },
  {
   "cell_type": "code",
   "execution_count": 6,
   "id": "waiting-flight",
   "metadata": {},
   "outputs": [
    {
     "data": {
      "text/plain": [
       "Index(['Checked', 'Protein FDR Confidence Combined', 'Master', 'Accession',\n",
       "       'Description', 'Exp q-value Combined', 'Sum PEP Score',\n",
       "       'Coverage in Percent', 'Number of Peptides', 'Number of PSMs',\n",
       "       'Number of Unique Peptides', 'Number of Protein Groups',\n",
       "       'Number of AAs', 'MW in kDa', 'calc pI', 'Score Sequest HT Sequest HT',\n",
       "       'Number of Peptides by Search Engine Sequest HT',\n",
       "       'Number of Razor Peptides', 'Abundances Normalized F1 Sample',\n",
       "       'Abundances Normalized F2 Sample', 'Abundances Normalized F3 Sample',\n",
       "       'Abundances Normalized F4 Sample', 'Abundance F1 Sample',\n",
       "       'Abundance F2 Sample', 'Abundance F3 Sample', 'Abundance F4 Sample',\n",
       "       'Found in Sample in S1 F1 Sample', 'Found in Sample in S2 F2 Sample',\n",
       "       'Found in Sample in S3 F3 Sample', 'Found in Sample in S4 F4 Sample',\n",
       "       'Modifications'],\n",
       "      dtype='object')"
      ]
     },
     "execution_count": 6,
     "metadata": {},
     "output_type": "execute_result"
    }
   ],
   "source": [
    "data.columns"
   ]
  },
  {
   "cell_type": "markdown",
   "id": "wicked-collar",
   "metadata": {},
   "source": [
    "There are 4 samples, with raw and normalised protein abundance data.   \n",
    "The raw data of the samples are :  \n",
    "- Abundance F1 Sample \n",
    "- Abundance F2 Sample \n",
    "- Abundance F3 Sample \n",
    "- Abundance F4 Sample  \n",
    "\n",
    "And the normalised data of th samples are :  \n",
    "- Abundances Normalized F1 Sample \n",
    "- Abundances Normalized F2 Sample \n",
    "- Abundances Normalized F3 Sample \n",
    "- Abundances Normalized F4 Sample"
   ]
  },
  {
   "cell_type": "markdown",
   "id": "conservative-footage",
   "metadata": {},
   "source": [
    "## Analysis of protein abundance data for all 4 samples of normalised data\n",
    "### data preparation and cleaning"
   ]
  },
  {
   "cell_type": "code",
   "execution_count": 7,
   "id": "wound-medicare",
   "metadata": {},
   "outputs": [
    {
     "name": "stdout",
     "output_type": "stream",
     "text": [
      "(2259, 4)\n"
     ]
    }
   ],
   "source": [
    "abundance_tot_norm = ['Abundances Normalized F1 Sample', 'Abundances Normalized F2 Sample',\n",
    "                      'Abundances Normalized F3 Sample', 'Abundances Normalized F4 Sample']\n",
    "\n",
    "abundance_tot_norm = data[abundance_tot_norm]\n",
    "print(abundance_tot_norm.shape)"
   ]
  },
  {
   "cell_type": "code",
   "execution_count": 8,
   "id": "bright-fancy",
   "metadata": {},
   "outputs": [
    {
     "name": "stdout",
     "output_type": "stream",
     "text": [
      "(9036,)\n"
     ]
    },
    {
     "data": {
      "text/plain": [
       "array([2.10755997e+09, 2.23397114e+09, 2.23728970e+09, ...,\n",
       "                  nan,            nan,            nan])"
      ]
     },
     "execution_count": 8,
     "metadata": {},
     "output_type": "execute_result"
    }
   ],
   "source": [
    "# data in an array of one dimension\n",
    "abundance_tot_norm = abundance_tot_norm.values.reshape(abundance_tot_norm.shape[0] * abundance_tot_norm.shape[1])\n",
    "print(abundance_tot_norm.shape)\n",
    "abundance_tot_norm"
   ]
  },
  {
   "cell_type": "code",
   "execution_count": 9,
   "id": "prescribed-immunology",
   "metadata": {},
   "outputs": [
    {
     "name": "stdout",
     "output_type": "stream",
     "text": [
      "(8096,)\n"
     ]
    }
   ],
   "source": [
    "# remove 0\n",
    "abundance_tot_norm = abundance_tot_norm[abundance_tot_norm > 0]\n",
    "print(abundance_tot_norm.shape)"
   ]
  },
  {
   "cell_type": "markdown",
   "id": "fixed-newton",
   "metadata": {},
   "source": [
    "After cleaning the data we have 8096 protein abundance data.\n",
    "\n",
    "## Analysis of the physical order of magnitude and the order of magnitude\n",
    "### "
   ]
  },
  {
   "cell_type": "code",
   "execution_count": 10,
   "id": "dressed-burner",
   "metadata": {},
   "outputs": [
    {
     "data": {
      "image/png": "[encoded data removed]",
      "text/plain": [
       "<Figure size 432x288 with 1 Axes>"
      ]
     },
     "metadata": {
      "needs_background": "light"
     },
     "output_type": "display_data"
    }
   ],
   "source": [
    "plt.hist(abundance_tot_norm, bins=range(0, 20_000_000, 150_000))\n",
    "plt.title(label=\"\")\n",
    "plt.xlab(\"\")\n",
    "plt.ylab(\"\");"
   ]
  },
  {
   "cell_type": "code",
   "execution_count": null,
   "id": "valuable-phoenix",
   "metadata": {},
   "outputs": [],
   "source": []
  }
 ],
 "metadata": {
  "kernelspec": {
   "display_name": "Python 3",
   "language": "python",
   "name": "python3"
  },
  "language_info": {
   "codemirror_mode": {
    "name": "ipython",
    "version": 3
   },
   "file_extension": ".py",
   "mimetype": "text/x-python",
   "name": "python",
   "nbconvert_exporter": "python",
   "pygments_lexer": "ipython3",
   "version": "3.7.9"
  }
 },
 "nbformat": 4,
 "nbformat_minor": 5
}
